{
  "cells": [
    {
      "cell_type": "markdown",
      "metadata": {
        "id": "view-in-github",
        "colab_type": "text"
      },
      "source": [
        "<a href=\"https://colab.research.google.com/github/kush9405/Appointment-System/blob/main/reflection_pattern.ipynb\" target=\"_parent\"><img src=\"https://colab.research.google.com/assets/colab-badge.svg\" alt=\"Open In Colab\"/></a>"
      ]
    },
    {
      "cell_type": "markdown",
      "id": "bgaLtyAUJErG",
      "metadata": {
        "id": "bgaLtyAUJErG"
      },
      "source": [
        "## Setup\n",
        "\n"
      ]
    },
    {
      "cell_type": "code",
      "execution_count": 50,
      "id": "s2hDgZXWHPAI",
      "metadata": {
        "colab": {
          "base_uri": "https://localhost:8080/"
        },
        "id": "s2hDgZXWHPAI",
        "outputId": "88bc2440-e4c7-4429-f24f-b8d7b189651c"
      },
      "outputs": [
        {
          "output_type": "stream",
          "name": "stdout",
          "text": [
            "Cloning into 'agentic_patterns'...\n",
            "remote: Enumerating objects: 308, done.\u001b[K\n",
            "remote: Counting objects:   4% (1/21)\u001b[K\rremote: Counting objects:   9% (2/21)\u001b[K\rremote: Counting objects:  14% (3/21)\u001b[K\rremote: Counting objects:  19% (4/21)\u001b[K\rremote: Counting objects:  23% (5/21)\u001b[K\rremote: Counting objects:  28% (6/21)\u001b[K\rremote: Counting objects:  33% (7/21)\u001b[K\rremote: Counting objects:  38% (8/21)\u001b[K\rremote: Counting objects:  42% (9/21)\u001b[K\rremote: Counting objects:  47% (10/21)\u001b[K\rremote: Counting objects:  52% (11/21)\u001b[K\rremote: Counting objects:  57% (12/21)\u001b[K\rremote: Counting objects:  61% (13/21)\u001b[K\rremote: Counting objects:  66% (14/21)\u001b[K\rremote: Counting objects:  71% (15/21)\u001b[K\rremote: Counting objects:  76% (16/21)\u001b[K\rremote: Counting objects:  80% (17/21)\u001b[K\rremote: Counting objects:  85% (18/21)\u001b[K\rremote: Counting objects:  90% (19/21)\u001b[K\rremote: Counting objects:  95% (20/21)\u001b[K\rremote: Counting objects: 100% (21/21)\u001b[K\rremote: Counting objects: 100% (21/21), done.\u001b[K\n",
            "remote: Compressing objects: 100% (19/19), done.\u001b[K\n",
            "remote: Total 308 (delta 2), reused 12 (delta 2), pack-reused 287 (from 1)\u001b[K\n",
            "Receiving objects: 100% (308/308), 7.96 MiB | 27.71 MiB/s, done.\n",
            "Resolving deltas: 100% (134/134), done.\n"
          ]
        }
      ],
      "source": [
        "!git clone https://github.com/neural-maze/agentic_patterns.git"
      ]
    },
    {
      "cell_type": "code",
      "execution_count": 25,
      "id": "Wl9JXfj4HSxf",
      "metadata": {
        "colab": {
          "base_uri": "https://localhost:8080/"
        },
        "id": "Wl9JXfj4HSxf",
        "outputId": "24a29b6e-b7df-4b8d-d49e-d8c759b64db1"
      },
      "outputs": [
        {
          "output_type": "stream",
          "name": "stdout",
          "text": [
            "/content/agentic_patterns/agentic_patterns\n"
          ]
        }
      ],
      "source": [
        "%cd agentic_patterns"
      ]
    },
    {
      "cell_type": "code",
      "execution_count": 26,
      "id": "qPPIncpXHYMI",
      "metadata": {
        "colab": {
          "base_uri": "https://localhost:8080/"
        },
        "id": "qPPIncpXHYMI",
        "outputId": "dc2c6131-69ac-4092-a2d1-1b9d5673cbe4"
      },
      "outputs": [
        {
          "output_type": "stream",
          "name": "stdout",
          "text": [
            "Requirement already satisfied: groq==0.10.0 in /usr/local/lib/python3.11/dist-packages (0.10.0)\n",
            "Requirement already satisfied: jupyter==1.0.0 in /usr/local/lib/python3.11/dist-packages (1.0.0)\n",
            "Requirement already satisfied: python-dotenv==1.0.1 in /usr/local/lib/python3.11/dist-packages (1.0.1)\n",
            "Requirement already satisfied: colorama==0.4.6 in /usr/local/lib/python3.11/dist-packages (0.4.6)\n",
            "Requirement already satisfied: types-colorama==0.4.15.20240311 in /usr/local/lib/python3.11/dist-packages (0.4.15.20240311)\n",
            "Requirement already satisfied: graphviz==0.20.3 in /usr/local/lib/python3.11/dist-packages (0.20.3)\n",
            "Requirement already satisfied: httpx==0.27.2 in /usr/local/lib/python3.11/dist-packages (0.27.2)\n",
            "Requirement already satisfied: anyio<5,>=3.5.0 in /usr/local/lib/python3.11/dist-packages (from groq==0.10.0) (3.7.1)\n",
            "Requirement already satisfied: distro<2,>=1.7.0 in /usr/local/lib/python3.11/dist-packages (from groq==0.10.0) (1.9.0)\n",
            "Requirement already satisfied: pydantic<3,>=1.9.0 in /usr/local/lib/python3.11/dist-packages (from groq==0.10.0) (2.10.6)\n",
            "Requirement already satisfied: sniffio in /usr/local/lib/python3.11/dist-packages (from groq==0.10.0) (1.3.1)\n",
            "Requirement already satisfied: typing-extensions<5,>=4.7 in /usr/local/lib/python3.11/dist-packages (from groq==0.10.0) (4.12.2)\n",
            "Requirement already satisfied: notebook in /usr/local/lib/python3.11/dist-packages (from jupyter==1.0.0) (6.5.5)\n",
            "Requirement already satisfied: qtconsole in /usr/local/lib/python3.11/dist-packages (from jupyter==1.0.0) (5.6.1)\n",
            "Requirement already satisfied: jupyter-console in /usr/local/lib/python3.11/dist-packages (from jupyter==1.0.0) (6.1.0)\n",
            "Requirement already satisfied: nbconvert in /usr/local/lib/python3.11/dist-packages (from jupyter==1.0.0) (7.16.5)\n",
            "Requirement already satisfied: ipykernel in /usr/local/lib/python3.11/dist-packages (from jupyter==1.0.0) (5.5.6)\n",
            "Requirement already satisfied: ipywidgets in /usr/local/lib/python3.11/dist-packages (from jupyter==1.0.0) (7.7.1)\n",
            "Requirement already satisfied: certifi in /usr/local/lib/python3.11/dist-packages (from httpx==0.27.2) (2024.12.14)\n",
            "Requirement already satisfied: httpcore==1.* in /usr/local/lib/python3.11/dist-packages (from httpx==0.27.2) (1.0.7)\n",
            "Requirement already satisfied: idna in /usr/local/lib/python3.11/dist-packages (from httpx==0.27.2) (3.10)\n",
            "Requirement already satisfied: h11<0.15,>=0.13 in /usr/local/lib/python3.11/dist-packages (from httpcore==1.*->httpx==0.27.2) (0.14.0)\n",
            "Requirement already satisfied: annotated-types>=0.6.0 in /usr/local/lib/python3.11/dist-packages (from pydantic<3,>=1.9.0->groq==0.10.0) (0.7.0)\n",
            "Requirement already satisfied: pydantic-core==2.27.2 in /usr/local/lib/python3.11/dist-packages (from pydantic<3,>=1.9.0->groq==0.10.0) (2.27.2)\n",
            "Requirement already satisfied: ipython-genutils in /usr/local/lib/python3.11/dist-packages (from ipykernel->jupyter==1.0.0) (0.2.0)\n",
            "Requirement already satisfied: ipython>=5.0.0 in /usr/local/lib/python3.11/dist-packages (from ipykernel->jupyter==1.0.0) (7.34.0)\n",
            "Requirement already satisfied: traitlets>=4.1.0 in /usr/local/lib/python3.11/dist-packages (from ipykernel->jupyter==1.0.0) (5.7.1)\n",
            "Requirement already satisfied: jupyter-client in /usr/local/lib/python3.11/dist-packages (from ipykernel->jupyter==1.0.0) (6.1.12)\n",
            "Requirement already satisfied: tornado>=4.2 in /usr/local/lib/python3.11/dist-packages (from ipykernel->jupyter==1.0.0) (6.3.3)\n",
            "Requirement already satisfied: widgetsnbextension~=3.6.0 in /usr/local/lib/python3.11/dist-packages (from ipywidgets->jupyter==1.0.0) (3.6.10)\n",
            "Requirement already satisfied: jupyterlab-widgets>=1.0.0 in /usr/local/lib/python3.11/dist-packages (from ipywidgets->jupyter==1.0.0) (3.0.13)\n",
            "Requirement already satisfied: prompt-toolkit!=3.0.0,!=3.0.1,<3.1.0,>=2.0.0 in /usr/local/lib/python3.11/dist-packages (from jupyter-console->jupyter==1.0.0) (3.0.50)\n",
            "Requirement already satisfied: pygments in /usr/local/lib/python3.11/dist-packages (from jupyter-console->jupyter==1.0.0) (2.18.0)\n",
            "Requirement already satisfied: beautifulsoup4 in /usr/local/lib/python3.11/dist-packages (from nbconvert->jupyter==1.0.0) (4.12.3)\n",
            "Requirement already satisfied: bleach!=5.0.0 in /usr/local/lib/python3.11/dist-packages (from bleach[css]!=5.0.0->nbconvert->jupyter==1.0.0) (6.2.0)\n",
            "Requirement already satisfied: defusedxml in /usr/local/lib/python3.11/dist-packages (from nbconvert->jupyter==1.0.0) (0.7.1)\n",
            "Requirement already satisfied: jinja2>=3.0 in /usr/local/lib/python3.11/dist-packages (from nbconvert->jupyter==1.0.0) (3.1.5)\n",
            "Requirement already satisfied: jupyter-core>=4.7 in /usr/local/lib/python3.11/dist-packages (from nbconvert->jupyter==1.0.0) (5.7.2)\n",
            "Requirement already satisfied: jupyterlab-pygments in /usr/local/lib/python3.11/dist-packages (from nbconvert->jupyter==1.0.0) (0.3.0)\n",
            "Requirement already satisfied: markupsafe>=2.0 in /usr/local/lib/python3.11/dist-packages (from nbconvert->jupyter==1.0.0) (3.0.2)\n",
            "Requirement already satisfied: mistune<4,>=2.0.3 in /usr/local/lib/python3.11/dist-packages (from nbconvert->jupyter==1.0.0) (3.1.0)\n",
            "Requirement already satisfied: nbclient>=0.5.0 in /usr/local/lib/python3.11/dist-packages (from nbconvert->jupyter==1.0.0) (0.10.2)\n",
            "Requirement already satisfied: nbformat>=5.7 in /usr/local/lib/python3.11/dist-packages (from nbconvert->jupyter==1.0.0) (5.10.4)\n",
            "Requirement already satisfied: packaging in /usr/local/lib/python3.11/dist-packages (from nbconvert->jupyter==1.0.0) (24.2)\n",
            "Requirement already satisfied: pandocfilters>=1.4.1 in /usr/local/lib/python3.11/dist-packages (from nbconvert->jupyter==1.0.0) (1.5.1)\n",
            "Requirement already satisfied: pyzmq<25,>=17 in /usr/local/lib/python3.11/dist-packages (from notebook->jupyter==1.0.0) (24.0.1)\n",
            "Requirement already satisfied: argon2-cffi in /usr/local/lib/python3.11/dist-packages (from notebook->jupyter==1.0.0) (23.1.0)\n",
            "Requirement already satisfied: nest-asyncio>=1.5 in /usr/local/lib/python3.11/dist-packages (from notebook->jupyter==1.0.0) (1.6.0)\n",
            "Requirement already satisfied: Send2Trash>=1.8.0 in /usr/local/lib/python3.11/dist-packages (from notebook->jupyter==1.0.0) (1.8.3)\n",
            "Requirement already satisfied: terminado>=0.8.3 in /usr/local/lib/python3.11/dist-packages (from notebook->jupyter==1.0.0) (0.18.1)\n",
            "Requirement already satisfied: prometheus-client in /usr/local/lib/python3.11/dist-packages (from notebook->jupyter==1.0.0) (0.21.1)\n",
            "Requirement already satisfied: nbclassic>=0.4.7 in /usr/local/lib/python3.11/dist-packages (from notebook->jupyter==1.0.0) (1.2.0)\n",
            "Requirement already satisfied: qtpy>=2.4.0 in /usr/local/lib/python3.11/dist-packages (from qtconsole->jupyter==1.0.0) (2.4.2)\n",
            "Requirement already satisfied: webencodings in /usr/local/lib/python3.11/dist-packages (from bleach!=5.0.0->bleach[css]!=5.0.0->nbconvert->jupyter==1.0.0) (0.5.1)\n",
            "Requirement already satisfied: tinycss2<1.5,>=1.1.0 in /usr/local/lib/python3.11/dist-packages (from bleach[css]!=5.0.0->nbconvert->jupyter==1.0.0) (1.4.0)\n",
            "Requirement already satisfied: setuptools>=18.5 in /usr/local/lib/python3.11/dist-packages (from ipython>=5.0.0->ipykernel->jupyter==1.0.0) (75.1.0)\n",
            "Requirement already satisfied: jedi>=0.16 in /usr/local/lib/python3.11/dist-packages (from ipython>=5.0.0->ipykernel->jupyter==1.0.0) (0.19.2)\n",
            "Requirement already satisfied: decorator in /usr/local/lib/python3.11/dist-packages (from ipython>=5.0.0->ipykernel->jupyter==1.0.0) (4.4.2)\n",
            "Requirement already satisfied: pickleshare in /usr/local/lib/python3.11/dist-packages (from ipython>=5.0.0->ipykernel->jupyter==1.0.0) (0.7.5)\n",
            "Requirement already satisfied: backcall in /usr/local/lib/python3.11/dist-packages (from ipython>=5.0.0->ipykernel->jupyter==1.0.0) (0.2.0)\n",
            "Requirement already satisfied: matplotlib-inline in /usr/local/lib/python3.11/dist-packages (from ipython>=5.0.0->ipykernel->jupyter==1.0.0) (0.1.7)\n",
            "Requirement already satisfied: pexpect>4.3 in /usr/local/lib/python3.11/dist-packages (from ipython>=5.0.0->ipykernel->jupyter==1.0.0) (4.9.0)\n",
            "Requirement already satisfied: python-dateutil>=2.1 in /usr/local/lib/python3.11/dist-packages (from jupyter-client->ipykernel->jupyter==1.0.0) (2.8.2)\n",
            "Requirement already satisfied: platformdirs>=2.5 in /usr/local/lib/python3.11/dist-packages (from jupyter-core>=4.7->nbconvert->jupyter==1.0.0) (4.3.6)\n",
            "Requirement already satisfied: notebook-shim>=0.2.3 in /usr/local/lib/python3.11/dist-packages (from nbclassic>=0.4.7->notebook->jupyter==1.0.0) (0.2.4)\n",
            "Requirement already satisfied: fastjsonschema>=2.15 in /usr/local/lib/python3.11/dist-packages (from nbformat>=5.7->nbconvert->jupyter==1.0.0) (2.21.1)\n",
            "Requirement already satisfied: jsonschema>=2.6 in /usr/local/lib/python3.11/dist-packages (from nbformat>=5.7->nbconvert->jupyter==1.0.0) (4.23.0)\n",
            "Requirement already satisfied: wcwidth in /usr/local/lib/python3.11/dist-packages (from prompt-toolkit!=3.0.0,!=3.0.1,<3.1.0,>=2.0.0->jupyter-console->jupyter==1.0.0) (0.2.13)\n",
            "Requirement already satisfied: ptyprocess in /usr/local/lib/python3.11/dist-packages (from terminado>=0.8.3->notebook->jupyter==1.0.0) (0.7.0)\n",
            "Requirement already satisfied: argon2-cffi-bindings in /usr/local/lib/python3.11/dist-packages (from argon2-cffi->notebook->jupyter==1.0.0) (21.2.0)\n",
            "Requirement already satisfied: soupsieve>1.2 in /usr/local/lib/python3.11/dist-packages (from beautifulsoup4->nbconvert->jupyter==1.0.0) (2.6)\n",
            "Requirement already satisfied: parso<0.9.0,>=0.8.4 in /usr/local/lib/python3.11/dist-packages (from jedi>=0.16->ipython>=5.0.0->ipykernel->jupyter==1.0.0) (0.8.4)\n",
            "Requirement already satisfied: attrs>=22.2.0 in /usr/local/lib/python3.11/dist-packages (from jsonschema>=2.6->nbformat>=5.7->nbconvert->jupyter==1.0.0) (24.3.0)\n",
            "Requirement already satisfied: jsonschema-specifications>=2023.03.6 in /usr/local/lib/python3.11/dist-packages (from jsonschema>=2.6->nbformat>=5.7->nbconvert->jupyter==1.0.0) (2024.10.1)\n",
            "Requirement already satisfied: referencing>=0.28.4 in /usr/local/lib/python3.11/dist-packages (from jsonschema>=2.6->nbformat>=5.7->nbconvert->jupyter==1.0.0) (0.36.1)\n",
            "Requirement already satisfied: rpds-py>=0.7.1 in /usr/local/lib/python3.11/dist-packages (from jsonschema>=2.6->nbformat>=5.7->nbconvert->jupyter==1.0.0) (0.22.3)\n",
            "Requirement already satisfied: jupyter-server<3,>=1.8 in /usr/local/lib/python3.11/dist-packages (from notebook-shim>=0.2.3->nbclassic>=0.4.7->notebook->jupyter==1.0.0) (1.24.0)\n",
            "Requirement already satisfied: six>=1.5 in /usr/local/lib/python3.11/dist-packages (from python-dateutil>=2.1->jupyter-client->ipykernel->jupyter==1.0.0) (1.17.0)\n",
            "Requirement already satisfied: cffi>=1.0.1 in /usr/local/lib/python3.11/dist-packages (from argon2-cffi-bindings->argon2-cffi->notebook->jupyter==1.0.0) (1.17.1)\n",
            "Requirement already satisfied: pycparser in /usr/local/lib/python3.11/dist-packages (from cffi>=1.0.1->argon2-cffi-bindings->argon2-cffi->notebook->jupyter==1.0.0) (2.22)\n",
            "Requirement already satisfied: websocket-client in /usr/local/lib/python3.11/dist-packages (from jupyter-server<3,>=1.8->notebook-shim>=0.2.3->nbclassic>=0.4.7->notebook->jupyter==1.0.0) (1.8.0)\n"
          ]
        }
      ],
      "source": [
        "!pip install groq==0.10.0 jupyter==1.0.0 python-dotenv==1.0.1 colorama==0.4.6 types-colorama==0.4.15.20240311 graphviz==0.20.3 httpx==0.27.2"
      ]
    },
    {
      "cell_type": "code",
      "execution_count": 27,
      "id": "SHNUNhtZIF24",
      "metadata": {
        "colab": {
          "base_uri": "https://localhost:8080/"
        },
        "id": "SHNUNhtZIF24",
        "outputId": "a5737883-5536-4b40-91b1-763e5fa973cf"
      },
      "outputs": [
        {
          "output_type": "stream",
          "name": "stdout",
          "text": [
            "Requirement already satisfied: groq==0.10.0 in /usr/local/lib/python3.11/dist-packages (0.10.0)\n",
            "Requirement already satisfied: anyio<5,>=3.5.0 in /usr/local/lib/python3.11/dist-packages (from groq==0.10.0) (3.7.1)\n",
            "Requirement already satisfied: distro<2,>=1.7.0 in /usr/local/lib/python3.11/dist-packages (from groq==0.10.0) (1.9.0)\n",
            "Requirement already satisfied: httpx<1,>=0.23.0 in /usr/local/lib/python3.11/dist-packages (from groq==0.10.0) (0.27.2)\n",
            "Requirement already satisfied: pydantic<3,>=1.9.0 in /usr/local/lib/python3.11/dist-packages (from groq==0.10.0) (2.10.6)\n",
            "Requirement already satisfied: sniffio in /usr/local/lib/python3.11/dist-packages (from groq==0.10.0) (1.3.1)\n",
            "Requirement already satisfied: typing-extensions<5,>=4.7 in /usr/local/lib/python3.11/dist-packages (from groq==0.10.0) (4.12.2)\n",
            "Requirement already satisfied: idna>=2.8 in /usr/local/lib/python3.11/dist-packages (from anyio<5,>=3.5.0->groq==0.10.0) (3.10)\n",
            "Requirement already satisfied: certifi in /usr/local/lib/python3.11/dist-packages (from httpx<1,>=0.23.0->groq==0.10.0) (2024.12.14)\n",
            "Requirement already satisfied: httpcore==1.* in /usr/local/lib/python3.11/dist-packages (from httpx<1,>=0.23.0->groq==0.10.0) (1.0.7)\n",
            "Requirement already satisfied: h11<0.15,>=0.13 in /usr/local/lib/python3.11/dist-packages (from httpcore==1.*->httpx<1,>=0.23.0->groq==0.10.0) (0.14.0)\n",
            "Requirement already satisfied: annotated-types>=0.6.0 in /usr/local/lib/python3.11/dist-packages (from pydantic<3,>=1.9.0->groq==0.10.0) (0.7.0)\n",
            "Requirement already satisfied: pydantic-core==2.27.2 in /usr/local/lib/python3.11/dist-packages (from pydantic<3,>=1.9.0->groq==0.10.0) (2.27.2)\n"
          ]
        }
      ],
      "source": [
        "!pip install groq==0.10.0"
      ]
    },
    {
      "cell_type": "markdown",
      "id": "e1bc453d-c8d3-4503-b3da-52120ad92c74",
      "metadata": {
        "id": "e1bc453d-c8d3-4503-b3da-52120ad92c74",
        "tags": []
      },
      "source": [
        "# Reflection Pattern\n",
        "\n",
        "The first pattern we are going to implement is the **reflection pattern**.\n",
        "\n",
        "---\n",
        "\n",
        "<img src=\"https://github.com/neural-maze/agentic_patterns/blob/main/img/reflection_pattern.png?raw=1\" alt=\"Alt text\" width=\"600\"/>\n",
        "\n",
        "---\n",
        "\n",
        "This pattern allows the LLM to reflect and critique its outputs, following the next steps:\n",
        "\n",
        "1. The LLM **generates** a candidate output. If you look at the diagram above, it happens inside the **\"Generate\"** box.\n",
        "2. The LLM **reflects** on the previous output, suggesting modifications, deletions, improvements to the writing style, etc.\n",
        "3. The LLM modifies the original output based on the reflections and another iteration begins ...\n",
        "\n",
        "**Now, we are going to build, from scratch, each step, so that you can truly understand how this pattern works.**"
      ]
    },
    {
      "cell_type": "markdown",
      "id": "7898c34d-de9a-4970-b7f4-3d86b69d45a7",
      "metadata": {
        "id": "7898c34d-de9a-4970-b7f4-3d86b69d45a7"
      },
      "source": [
        "## Generation Step"
      ]
    },
    {
      "cell_type": "markdown",
      "id": "031f6b07-4f99-46f6-a53c-ff242585cbad",
      "metadata": {
        "id": "031f6b07-4f99-46f6-a53c-ff242585cbad"
      },
      "source": [
        "The first thing we need to consider is:\n",
        "\n",
        "> What do we want to generate? A poem? An essay? Python code?\n",
        "\n",
        "For this example, I've decided to test the Python coding skills of Llama3 70B (that's the LLM we are going to use for all the tutorials). In particular, we are going to ask our LLM to code a famous sorting algorithm: **Merge Sort**.\n",
        "\n",
        "---\n",
        "\n",
        "<img src=\"https://github.com/neural-maze/agentic_patterns/blob/main/img/mergesort.png?raw=1\" alt=\"Alt text\" width=\"500\"/>"
      ]
    },
    {
      "cell_type": "markdown",
      "id": "73f4d7b7-40bf-43b9-a626-2a11d5529ac8",
      "metadata": {
        "id": "73f4d7b7-40bf-43b9-a626-2a11d5529ac8"
      },
      "source": [
        "### Groq Client and relevant imports"
      ]
    },
    {
      "cell_type": "code",
      "execution_count": 36,
      "id": "96731d2f-a079-4e41-9756-220f02d4ebd8",
      "metadata": {
        "id": "96731d2f-a079-4e41-9756-220f02d4ebd8"
      },
      "outputs": [],
      "source": [
        "import os\n",
        "from pprint import pprint\n",
        "from groq import Groq\n",
        "from IPython.display import display_markdown\n",
        "\n",
        "client = Groq(api_key=\"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\")"
      ]
    },
    {
      "cell_type": "markdown",
      "id": "e644a635-e035-44e2-8c25-cee0f2b56556",
      "metadata": {
        "id": "e644a635-e035-44e2-8c25-cee0f2b56556"
      },
      "source": [
        "We will start the **\"generation\"** chat history with the system prompt, as we said before. In this case, let the LLM act like a Python\n",
        "programmer eager to receive feedback / critique by the user."
      ]
    },
    {
      "cell_type": "code",
      "execution_count": 37,
      "id": "12467256-c741-495a-9923-439c1fcf270d",
      "metadata": {
        "id": "12467256-c741-495a-9923-439c1fcf270d"
      },
      "outputs": [],
      "source": [
        "generation_chat_history = [\n",
        "    {\n",
        "        \"role\": \"system\",\n",
        "        \"content\": \"You are a Python programmer tasked with generating high quality Python code.\"\n",
        "        \"Your task is to Generate the best content possible for the user's request. If the user provides critique,\"\n",
        "        \"respond with a revised version of your previous attempt.\"\n",
        "    }\n",
        "]"
      ]
    },
    {
      "cell_type": "markdown",
      "id": "43149b4f-54db-455f-9d39-6ad2f5c52b94",
      "metadata": {
        "id": "43149b4f-54db-455f-9d39-6ad2f5c52b94"
      },
      "source": [
        "Now, as the user, we are going to ask the LLM to generate an implementation of the **Merge Sort** algorithm. Just add a new message with the **user** role to the chat history."
      ]
    },
    {
      "cell_type": "code",
      "execution_count": 38,
      "id": "0742e7bd-4857-4ed1-a96b-37098d448bdd",
      "metadata": {
        "id": "0742e7bd-4857-4ed1-a96b-37098d448bdd"
      },
      "outputs": [],
      "source": [
        "generation_chat_history.append(\n",
        "    {\n",
        "        \"role\": \"user\",\n",
        "        \"content\": \"Generate a Python implementation of the Merge Sort algorithm\"\n",
        "    }\n",
        ")"
      ]
    },
    {
      "cell_type": "markdown",
      "id": "4df1bffe-375f-4a9a-8433-e217eb94aea2",
      "metadata": {
        "id": "4df1bffe-375f-4a9a-8433-e217eb94aea2"
      },
      "source": [
        "Let's generate the first version of the essay."
      ]
    },
    {
      "cell_type": "code",
      "execution_count": 39,
      "id": "ff984277-733c-4495-b7fd-0669393380b8",
      "metadata": {
        "id": "ff984277-733c-4495-b7fd-0669393380b8"
      },
      "outputs": [],
      "source": [
        "mergesort_code = client.chat.completions.create(\n",
        "    messages=generation_chat_history,\n",
        "    model=\"llama3-70b-8192\"\n",
        ").choices[0].message.content\n",
        "\n",
        "generation_chat_history.append(\n",
        "    {\n",
        "        \"role\": \"assistant\",\n",
        "        \"content\": mergesort_code\n",
        "    }\n",
        ")"
      ]
    },
    {
      "cell_type": "code",
      "execution_count": 40,
      "id": "c03f208b-2234-4fd1-a02b-f4fff06c01a6",
      "metadata": {
        "colab": {
          "base_uri": "https://localhost:8080/",
          "height": 1000
        },
        "id": "c03f208b-2234-4fd1-a02b-f4fff06c01a6",
        "outputId": "2182e51e-0ad2-4cab-f0cf-cc14412e6c10"
      },
      "outputs": [
        {
          "output_type": "display_data",
          "data": {
            "text/markdown": "Here is a Python implementation of the Merge Sort algorithm:\n```\ndef merge_sort(arr):\n    \"\"\"\n    Sorts the input array using the Merge Sort algorithm.\n\n    Time complexity: O(n log n)\n    Space complexity: O(n)\n\n    :param arr: The input array to be sorted\n    :return: The sorted array\n    \"\"\"\n    # Base case: If the length of the array is 1 or less, return the array (since it's already sorted)\n    if len(arr) <= 1:\n        return arr\n\n    # Split the array into two halves\n    mid = len(arr) // 2\n    left = arr[:mid]\n    right = arr[mid:]\n\n    # Recursively sort each half\n    left = merge_sort(left)\n    right = merge_sort(right)\n\n    # Merge the two sorted halves\n    return merge(left, right)\n\n\ndef merge(left, right):\n    \"\"\"\n    Merges two sorted arrays into a single sorted array.\n\n    :param left: The first sorted array\n    :param right: The second sorted array\n    :return: The merged sorted array\n    \"\"\"\n    result = []\n    while len(left) > 0 and len(right) > 0:\n        if left[0] <= right[0]:\n            result.append(left.pop(0))\n        else:\n            result.append(right.pop(0))\n    result.extend(left)\n    result.extend(right)\n    return result\n```\nHere's an explanation of how the code works:\n\n1. The `merge_sort` function takes an input array and recursively splits it into two halves until each half has only one element (the base case).\n2. Each half is then recursively sorted using the `merge_sort` function.\n3. The `merge` function takes two sorted arrays and merges them into a single sorted array.\n4. The `merge` function uses a simple iterative approach to merge the two arrays. It compares the smallest element from each array and adds it to the result array. If one array is exhausted, it adds the remaining elements from the other array to the result.\n5. The final sorted array is returned by the `merge_sort` function.\n\nYou can test the implementation using a sample array, like this:\n```\narr = [5, 2, 8, 3, 1, 4, 6]\narr = merge_sort(arr)\nprint(arr)  # [1, 2, 3, 4, 5, 6, 8]\n```\nLet me know if you have any questions or if you'd like me to revise anything!"
          },
          "metadata": {}
        }
      ],
      "source": [
        "display_markdown(mergesort_code, raw=True)"
      ]
    },
    {
      "cell_type": "markdown",
      "id": "6a04ebe5-0573-4520-a529-aff22d486b7d",
      "metadata": {
        "id": "6a04ebe5-0573-4520-a529-aff22d486b7d"
      },
      "source": [
        "## Reflection Step"
      ]
    },
    {
      "cell_type": "markdown",
      "id": "67aa69e4-632f-4a0c-a6f0-c5a7ced4849d",
      "metadata": {
        "id": "67aa69e4-632f-4a0c-a6f0-c5a7ced4849d",
        "tags": []
      },
      "source": [
        "Now, let's allow the LLM to reflect on its outputs by defining another system prompt. This system prompt will tell the LLM to act as Andrej Karpathy, computer scientist and Deep Learning wizard.\n",
        "\n",
        ">To be honest, I don't think the fact of acting like Andrej Karpathy will influence the LLM outputs, but it was fun :)"
      ]
    },
    {
      "cell_type": "markdown",
      "id": "166f626f-dc32-4a2a-920c-88bee73bdc8b",
      "metadata": {
        "id": "166f626f-dc32-4a2a-920c-88bee73bdc8b"
      },
      "source": [
        "<img src=\"https://github.com/neural-maze/agentic_patterns/blob/main/img/karpathy.png?raw=1\" alt=\"Alt text\" width=\"500\"/>"
      ]
    },
    {
      "cell_type": "code",
      "execution_count": 41,
      "id": "9d93c928-d585-48af-a74c-a5b8d84593c6",
      "metadata": {
        "id": "9d93c928-d585-48af-a74c-a5b8d84593c6",
        "tags": []
      },
      "outputs": [],
      "source": [
        "reflection_chat_history = [\n",
        "    {\n",
        "    \"role\": \"system\",\n",
        "    \"content\": \"You are Andrej Karpathy, an experienced computer scientist. You are tasked with generating critique and recommendations for the user's code\",\n",
        "    }\n",
        "]"
      ]
    },
    {
      "cell_type": "markdown",
      "id": "c498175f-b3f9-40af-92a3-d5b36d77d1cf",
      "metadata": {
        "id": "c498175f-b3f9-40af-92a3-d5b36d77d1cf"
      },
      "source": [
        "The user message, in this case,  is the essay generated in the previous step. We simply add the `mergesort_code` to the `reflection_chat_history`."
      ]
    },
    {
      "cell_type": "code",
      "execution_count": 42,
      "id": "26af1a73-4d91-40e8-a9bc-c34d32b2ab82",
      "metadata": {
        "id": "26af1a73-4d91-40e8-a9bc-c34d32b2ab82",
        "tags": []
      },
      "outputs": [],
      "source": [
        "reflection_chat_history.append(\n",
        "    {\n",
        "        \"role\": \"user\",\n",
        "        \"content\": mergesort_code\n",
        "    }\n",
        ")"
      ]
    },
    {
      "cell_type": "markdown",
      "id": "bfa994c8-3612-47b0-9571-e21d0d73d896",
      "metadata": {
        "id": "bfa994c8-3612-47b0-9571-e21d0d73d896"
      },
      "source": [
        "Now, let's generate a critique to the Python code."
      ]
    },
    {
      "cell_type": "code",
      "execution_count": 43,
      "id": "40fee42f-d47a-41b1-a40d-7208ba76ce98",
      "metadata": {
        "id": "40fee42f-d47a-41b1-a40d-7208ba76ce98",
        "tags": []
      },
      "outputs": [],
      "source": [
        "critique = client.chat.completions.create(\n",
        "    messages=reflection_chat_history,\n",
        "    model=\"llama3-70b-8192\"\n",
        ").choices[0].message.content"
      ]
    },
    {
      "cell_type": "code",
      "execution_count": 13,
      "id": "0fef3203-c7f1-407f-8b9b-4e8ae140a4cb",
      "metadata": {
        "colab": {
          "base_uri": "https://localhost:8080/",
          "height": 660
        },
        "id": "0fef3203-c7f1-407f-8b9b-4e8ae140a4cb",
        "outputId": "19c4a95d-6b16-4572-8446-fbaa4b5f2d0e",
        "tags": []
      },
      "outputs": [
        {
          "output_type": "display_data",
          "data": {
            "text/markdown": "Thanks for the implementation of the Merge Sort algorithm in Python. Here's my review of the code:\n\n**Code Quality and Readability**\n\n* The code is well-structured, and the variable names are descriptive, making it easy to understand the logic.\n* The docstrings for both functions are helpful, providing a brief description of what each function does, along with the time and space complexities.\n\n**Correctness and Efficiency**\n\n* The implementation appears to be correct, and I didn't spot any errors.\n* The time complexity of O(n log n) and space complexity of O(n) are correct for the Merge Sort algorithm.\n* The use of recursive function calls is a good approach for Merge Sort, as it allows for a concise and elegant implementation.\n\n**Minor Suggestions**\n\n* In the `merge` function, you could consider using a more descriptive variable name instead of `result`. Perhaps `merged_array` or `sorted_result` would be more intuitive.\n* In the `merge_sort` function, you could add a docstring parameter description for the `arr` parameter, e.g., `:param arr: The input array to be sorted`.\n* While not necessary, you could consider adding some basic input validation to the `merge_sort` function to handle edge cases, such as empty arrays or non-list inputs.\n\n**Testing**\n\n* It's great that you provided a sample test case to demonstrate the functionality of the implementation.\n* However, to ensure the implementation is robust, it's essential to write more comprehensive unit tests to cover various scenarios, such as:\n\t+ Empty arrays\n\t+ Single-element arrays\n\t+ Already sorted arrays\n\t+ Reversed sorted arrays\n\t+ Arrays with duplicate elements\n\t+ Large arrays with random elements\n\n**Additional Tips**\n\n* When writing recursive functions, it's essential to consider the maximum recursion depth to avoid potential stack overflow issues. In this implementation, the recursion depth is logarithmic (i.e., log2(n)), which is acceptable.\n* Consider adding a `main` function or a `if __name__ == '__main__':` block to contain the test code, so that it's not executed when the module is imported as a library.\n\nOverall, your implementation is well-structured and correct. With some additional testing and minor suggestions, it can be even more robust and maintainable."
          },
          "metadata": {}
        }
      ],
      "source": [
        "display_markdown(critique, raw=True)"
      ]
    },
    {
      "cell_type": "markdown",
      "id": "5df433b0-d662-4378-895e-6b09dd3201bc",
      "metadata": {
        "id": "5df433b0-d662-4378-895e-6b09dd3201bc"
      },
      "source": [
        "Finally, we just need to add this *critique* to the `generation_chat_history`, in this case, as the `user` role."
      ]
    },
    {
      "cell_type": "code",
      "execution_count": 44,
      "id": "27a85bb3-cf6a-4576-8caf-cd41e602a1f1",
      "metadata": {
        "id": "27a85bb3-cf6a-4576-8caf-cd41e602a1f1",
        "tags": []
      },
      "outputs": [],
      "source": [
        "generation_chat_history.append(\n",
        "    {\n",
        "        \"role\": \"user\",\n",
        "        \"content\": critique\n",
        "    }\n",
        ")"
      ]
    },
    {
      "cell_type": "markdown",
      "id": "c3c1aefa-8454-41ab-af40-2675f340a577",
      "metadata": {
        "id": "c3c1aefa-8454-41ab-af40-2675f340a577"
      },
      "source": [
        "## Generation Step (II)"
      ]
    },
    {
      "cell_type": "code",
      "execution_count": 45,
      "id": "91d845cf-51c3-4cfd-b6a7-1b970413f6db",
      "metadata": {
        "id": "91d845cf-51c3-4cfd-b6a7-1b970413f6db",
        "tags": []
      },
      "outputs": [],
      "source": [
        "essay = client.chat.completions.create(\n",
        "    messages=generation_chat_history,\n",
        "    model=\"llama3-70b-8192\"\n",
        ").choices[0].message.content"
      ]
    },
    {
      "cell_type": "code",
      "execution_count": 46,
      "id": "ef14eaa8-f501-4efc-997f-8564ec8dccd8",
      "metadata": {
        "colab": {
          "base_uri": "https://localhost:8080/",
          "height": 1000
        },
        "id": "ef14eaa8-f501-4efc-997f-8564ec8dccd8",
        "outputId": "e1ac12b0-aa57-4474-8e97-1c255cde239f",
        "tags": []
      },
      "outputs": [
        {
          "output_type": "display_data",
          "data": {
            "text/markdown": "Thank you for the feedback! I'm glad to hear that the implementation is correct and well-documented.\n\nHere is the revised implementation incorporating your suggestions:\n```\ndef merge_sort(arr: list[int]) -> list[int]:\n    \"\"\"\n    Sorts the input array using the Merge Sort algorithm.\n\n    Time complexity: O(n log n)\n    Space complexity: O(n)\n\n    :param arr: int[] The input array to be sorted\n    :return: int[] The sorted array\n    \"\"\"\n    # Base case: If the length of the array is 1 or less, return the array (since it's already sorted)\n    if len(arr) <= 1:\n        return arr\n\n    # Split the array into two halves\n    mid = len(arr) // 2\n    left_half = arr[:mid]\n    right_half = arr[mid:]\n\n    # Recursively sort each half\n    left_half = merge_sort(left_half)\n    right_half = merge_sort(right_half)\n\n    # Merge the two sorted halves\n    return merge(left_half, right_half)\n\n\ndef merge(left: list[int], right: list[int]) -> list[int]:\n    \"\"\"\n    Merges two sorted arrays into a single sorted array.\n\n    :param left: int[] The first sorted array\n    :param right: int[] The second sorted array\n    :return: int[] The merged sorted array\n    \"\"\"\n    result = []\n    while len(left) > 0 and len(right) > 0:\n        if left[0] <= right[0]:\n            result.append(left.pop(0))\n        else:\n            result.append(right.pop(0))\n    result += left + right  # Use a single list comprehension\n    return result\n\n\n# Test cases\nprint(merge_sort([5, 2, 8, 3, 1, 4, 6]))  # [1, 2, 3, 4, 5, 6, 8]\nprint(merge_sort([]))  # []\nprint(merge_sort([1]))  # [1]\nprint(merge_sort([1, 1, 1]))  # [1, 1, 1]\nprint(merge_sort([5, 5, 5, 5]))  # [5, 5, 5, 5]\n```\nI've addressed each of your points:\n\n1. **Docstrings:** I've updated the docstrings to include proper formatting for parameter descriptions and added type hints for the parameters and return values.\n2. **Type Hints:** I've added type hints for the `arr` parameter in the `merge_sort` function and for the `left` and `right` parameters in the `merge` function.\n3. **Variable Names:** I've updated the variable names to `left_half` and `right_half` to make the code more readable.\n4. **`merge` Function:** I've updated the `merge` function to use a single list comprehension instead of `result.extend(left)` and `result.extend(right)`.\n5. **Testing:** I've added more test cases to cover edge cases such as an empty array, an array with a single element, and an array with duplicate elements.\n\nThank you again for your feedback!"
          },
          "metadata": {}
        }
      ],
      "source": [
        "display_markdown(essay, raw=True)"
      ]
    },
    {
      "cell_type": "markdown",
      "id": "75883af2-f31d-4c24-b1ff-315a0711f9fa",
      "metadata": {
        "id": "75883af2-f31d-4c24-b1ff-315a0711f9fa"
      },
      "source": [
        "## And the iteration starts again ..."
      ]
    },
    {
      "cell_type": "markdown",
      "id": "a5b824d1-c17e-448c-bdd7-df543aa5a9fd",
      "metadata": {
        "id": "a5b824d1-c17e-448c-bdd7-df543aa5a9fd"
      },
      "source": [
        "After **Generation Step (II)** the corrected Python code will be received, once again, by Karpathy. Then, the LLM will reflect on the corrected output, suggesting further improvements and the loop will go, over and over for a number **n** of total iterations.\n",
        "\n",
        "> There's another possibility. Suppose the Reflection step can't find any further improvement. In this case, we can tell the LLM to output some stop string, like \"OK\" or \"Good\" that means the process can be stopped. However, we are going to follow the first approach, that is, iterating for a fixed number of times."
      ]
    },
    {
      "cell_type": "markdown",
      "id": "7cf2cf5b-d083-435c-914a-3ff484d53473",
      "metadata": {
        "id": "7cf2cf5b-d083-435c-914a-3ff484d53473"
      },
      "source": [
        "## Implementing a class"
      ]
    },
    {
      "cell_type": "markdown",
      "id": "15f9a9e6-29f3-4adf-863e-c49fbb9a6b44",
      "metadata": {
        "id": "15f9a9e6-29f3-4adf-863e-c49fbb9a6b44"
      },
      "source": [
        "Now that you understand the underlying loop of the Reflection Agent, let's implement this agent as a class."
      ]
    },
    {
      "cell_type": "code",
      "execution_count": 49,
      "id": "3f904241-29a1-4519-b6ab-15be0a7cfc53",
      "metadata": {
        "id": "3f904241-29a1-4519-b6ab-15be0a7cfc53",
        "outputId": "fb501417-4fc0-4c2c-8fbd-46d065beecb9",
        "colab": {
          "base_uri": "https://localhost:8080/",
          "height": 322
        }
      },
      "outputs": [
        {
          "output_type": "error",
          "ename": "ImportError",
          "evalue": "cannot import name 'ReflectionAgent' from 'agentic_patterns' (unknown location)",
          "traceback": [
            "\u001b[0;31m---------------------------------------------------------------------------\u001b[0m",
            "\u001b[0;31mImportError\u001b[0m                               Traceback (most recent call last)",
            "\u001b[0;32m<ipython-input-49-db1c65c8347f>\u001b[0m in \u001b[0;36m<cell line: 0>\u001b[0;34m()\u001b[0m\n\u001b[0;32m----> 1\u001b[0;31m \u001b[0;32mfrom\u001b[0m \u001b[0magentic_patterns\u001b[0m \u001b[0;32mimport\u001b[0m \u001b[0mReflectionAgent\u001b[0m\u001b[0;34m\u001b[0m\u001b[0;34m\u001b[0m\u001b[0m\n\u001b[0m",
            "\u001b[0;31mImportError\u001b[0m: cannot import name 'ReflectionAgent' from 'agentic_patterns' (unknown location)",
            "",
            "\u001b[0;31m---------------------------------------------------------------------------\u001b[0;32m\nNOTE: If your import is failing due to a missing package, you can\nmanually install dependencies using either !pip or !apt.\n\nTo view examples of installing some common dependencies, click the\n\"Open Examples\" button below.\n\u001b[0;31m---------------------------------------------------------------------------\u001b[0m\n"
          ],
          "errorDetails": {
            "actions": [
              {
                "action": "open_url",
                "actionText": "Open Examples",
                "url": "/notebooks/snippets/importing_libraries.ipynb"
              }
            ]
          }
        }
      ],
      "source": [
        "from agentic_patterns import ReflectionAgent"
      ]
    },
    {
      "cell_type": "code",
      "execution_count": null,
      "id": "dd1a8071-c763-4dbf-8db7-60f9116f62e8",
      "metadata": {
        "id": "dd1a8071-c763-4dbf-8db7-60f9116f62e8"
      },
      "outputs": [],
      "source": [
        "agent = ReflectionAgent()"
      ]
    },
    {
      "cell_type": "code",
      "execution_count": 19,
      "id": "87c8cf16-0dfa-49b6-bc30-8f14bbe7860a",
      "metadata": {
        "id": "87c8cf16-0dfa-49b6-bc30-8f14bbe7860a"
      },
      "outputs": [],
      "source": [
        "generation_system_prompt = \"You are a Python programmer tasked with generating high quality Python code\"\n",
        "\n",
        "reflection_system_prompt = \"You are Andrej Karpathy, an experienced computer scientist\"\n",
        "\n",
        "user_msg = \"Generate a Python implementation of the Merge Sort algorithm\""
      ]
    },
    {
      "cell_type": "code",
      "execution_count": 20,
      "id": "6a9a3e5b-9b45-4a27-b391-f78b57ff94f1",
      "metadata": {
        "id": "6a9a3e5b-9b45-4a27-b391-f78b57ff94f1",
        "outputId": "db48342a-a62c-464b-ff29-6f78bc969ca1",
        "colab": {
          "base_uri": "https://localhost:8080/",
          "height": 216
        }
      },
      "outputs": [
        {
          "output_type": "error",
          "ename": "NameError",
          "evalue": "name 'agent' is not defined",
          "traceback": [
            "\u001b[0;31m---------------------------------------------------------------------------\u001b[0m",
            "\u001b[0;31mNameError\u001b[0m                                 Traceback (most recent call last)",
            "\u001b[0;32m<ipython-input-20-391d00c402b3>\u001b[0m in \u001b[0;36m<cell line: 0>\u001b[0;34m()\u001b[0m\n\u001b[0;32m----> 1\u001b[0;31m final_response = agent.run(\n\u001b[0m\u001b[1;32m      2\u001b[0m     \u001b[0muser_msg\u001b[0m\u001b[0;34m=\u001b[0m\u001b[0muser_msg\u001b[0m\u001b[0;34m,\u001b[0m\u001b[0;34m\u001b[0m\u001b[0;34m\u001b[0m\u001b[0m\n\u001b[1;32m      3\u001b[0m     \u001b[0mgeneration_system_prompt\u001b[0m\u001b[0;34m=\u001b[0m\u001b[0mgeneration_system_prompt\u001b[0m\u001b[0;34m,\u001b[0m\u001b[0;34m\u001b[0m\u001b[0;34m\u001b[0m\u001b[0m\n\u001b[1;32m      4\u001b[0m     \u001b[0mreflection_system_prompt\u001b[0m\u001b[0;34m=\u001b[0m\u001b[0mreflection_system_prompt\u001b[0m\u001b[0;34m,\u001b[0m\u001b[0;34m\u001b[0m\u001b[0;34m\u001b[0m\u001b[0m\n\u001b[1;32m      5\u001b[0m     \u001b[0mn_steps\u001b[0m\u001b[0;34m=\u001b[0m\u001b[0;36m10\u001b[0m\u001b[0;34m,\u001b[0m\u001b[0;34m\u001b[0m\u001b[0;34m\u001b[0m\u001b[0m\n",
            "\u001b[0;31mNameError\u001b[0m: name 'agent' is not defined"
          ]
        }
      ],
      "source": [
        "final_response = agent.run(\n",
        "    user_msg=user_msg,\n",
        "    generation_system_prompt=generation_system_prompt,\n",
        "    reflection_system_prompt=reflection_system_prompt,\n",
        "    n_steps=10,\n",
        "    verbose=1,\n",
        ")"
      ]
    },
    {
      "cell_type": "markdown",
      "id": "4b69d182-d12e-40bb-8dfb-cbc8903218a1",
      "metadata": {
        "id": "4b69d182-d12e-40bb-8dfb-cbc8903218a1"
      },
      "source": [
        "## Final result"
      ]
    },
    {
      "cell_type": "code",
      "execution_count": 21,
      "id": "6e4663cd-61dd-4a38-866a-f032045a444a",
      "metadata": {
        "id": "6e4663cd-61dd-4a38-866a-f032045a444a",
        "outputId": "bc92f2ba-a0a6-425d-8b74-5bf10cb64fb1",
        "colab": {
          "base_uri": "https://localhost:8080/",
          "height": 144
        }
      },
      "outputs": [
        {
          "output_type": "error",
          "ename": "NameError",
          "evalue": "name 'final_response' is not defined",
          "traceback": [
            "\u001b[0;31m---------------------------------------------------------------------------\u001b[0m",
            "\u001b[0;31mNameError\u001b[0m                                 Traceback (most recent call last)",
            "\u001b[0;32m<ipython-input-21-6e712dba3898>\u001b[0m in \u001b[0;36m<cell line: 0>\u001b[0;34m()\u001b[0m\n\u001b[0;32m----> 1\u001b[0;31m \u001b[0mdisplay_markdown\u001b[0m\u001b[0;34m(\u001b[0m\u001b[0mfinal_response\u001b[0m\u001b[0;34m,\u001b[0m \u001b[0mraw\u001b[0m\u001b[0;34m=\u001b[0m\u001b[0;32mTrue\u001b[0m\u001b[0;34m)\u001b[0m\u001b[0;34m\u001b[0m\u001b[0;34m\u001b[0m\u001b[0m\n\u001b[0m",
            "\u001b[0;31mNameError\u001b[0m: name 'final_response' is not defined"
          ]
        }
      ],
      "source": [
        "display_markdown(final_response, raw=True)"
      ]
    }
  ],
  "metadata": {
    "colab": {
      "provenance": [],
      "include_colab_link": true
    },
    "kernelspec": {
      "display_name": "Python 3 (ipykernel)",
      "language": "python",
      "name": "python3"
    },
    "language_info": {
      "codemirror_mode": {
        "name": "ipython",
        "version": 3
      },
      "file_extension": ".py",
      "mimetype": "text/x-python",
      "name": "python",
      "nbconvert_exporter": "python",
      "pygments_lexer": "ipython3",
      "version": "3.11.3"
    }
  },
  "nbformat": 4,
  "nbformat_minor": 5
}